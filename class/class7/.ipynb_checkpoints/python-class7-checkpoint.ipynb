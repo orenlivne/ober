{
 "metadata": {
  "name": ""
 },
 "nbformat": 3,
 "nbformat_minor": 0,
 "worksheets": [
  {
   "cells": [
    {
     "cell_type": "code",
     "collapsed": false,
     "input": [
      "def my_comparator(x,y): return y-x\n",
      "print sorted([2,5,1,0,3], cmp=my_comparator)\n",
      "\n",
      "d = dict(zip([0,1,2,3,4,5],['e','d','c','b','a']))\n",
      "print d\n",
      "print sorted(d.iteritems(), \n",
      "             cmp=lambda (k1,v1), (k2,v2): \n",
      "             -1 if (v1 < v2) else (0 if v1 == v2 else 1),\n",
      "             reverse=True)"
     ],
     "language": "python",
     "metadata": {},
     "outputs": [
      {
       "output_type": "stream",
       "stream": "stdout",
       "text": [
        "[5, 3, 2, 1, 0]\n",
        "{0: 'e', 1: 'd', 2: 'c', 3: 'b', 4: 'a'}\n",
        "[(0, 'e'), (1, 'd'), (2, 'c'), (3, 'b'), (4, 'a')]\n"
       ]
      }
     ],
     "prompt_number": 1
    },
    {
     "cell_type": "code",
     "collapsed": false,
     "input": [
      "%matplotlib inline"
     ],
     "language": "python",
     "metadata": {},
     "outputs": [],
     "prompt_number": 2
    },
    {
     "cell_type": "code",
     "collapsed": false,
     "input": [
      "a = arange(15)\n",
      "help (a.itemsize)"
     ],
     "language": "python",
     "metadata": {},
     "outputs": [
      {
       "ename": "NameError",
       "evalue": "name 'arange' is not defined",
       "output_type": "pyerr",
       "traceback": [
        "\u001b[1;31m---------------------------------------------------------------------------\u001b[0m\n\u001b[1;31mNameError\u001b[0m                                 Traceback (most recent call last)",
        "\u001b[1;32m<ipython-input-3-f2aeffa6aced>\u001b[0m in \u001b[0;36m<module>\u001b[1;34m()\u001b[0m\n\u001b[1;32m----> 1\u001b[1;33m \u001b[0ma\u001b[0m \u001b[1;33m=\u001b[0m \u001b[0marange\u001b[0m\u001b[1;33m(\u001b[0m\u001b[1;36m15\u001b[0m\u001b[1;33m)\u001b[0m\u001b[1;33m\u001b[0m\u001b[0m\n\u001b[0m\u001b[0;32m      2\u001b[0m \u001b[0mhelp\u001b[0m \u001b[1;33m(\u001b[0m\u001b[0ma\u001b[0m\u001b[1;33m.\u001b[0m\u001b[0mitemsize\u001b[0m\u001b[1;33m)\u001b[0m\u001b[1;33m\u001b[0m\u001b[0m\n",
        "\u001b[1;31mNameError\u001b[0m: name 'arange' is not defined"
       ]
      }
     ],
     "prompt_number": 3
    },
    {
     "cell_type": "code",
     "collapsed": false,
     "input": [
      "from numpy import *\n",
      "print arange(15)\n",
      "a = arange(15, dtype=int32).reshape(3, 5)\n",
      "print a"
     ],
     "language": "python",
     "metadata": {},
     "outputs": [
      {
       "output_type": "stream",
       "stream": "stdout",
       "text": [
        "[ 0  1  2  3  4  5  6  7  8  9 10 11 12 13 14]\n",
        "[[ 0  1  2  3  4]\n",
        " [ 5  6  7  8  9]\n",
        " [10 11 12 13 14]]\n"
       ]
      }
     ],
     "prompt_number": 4
    },
    {
     "cell_type": "code",
     "collapsed": false,
     "input": [
      "print a.shape\n",
      "print a.ndim\n",
      "print a.dtype.name\n",
      "print a.itemsize\n",
      "print a.size\n",
      "print type(a)"
     ],
     "language": "python",
     "metadata": {},
     "outputs": [
      {
       "output_type": "stream",
       "stream": "stdout",
       "text": [
        "(3, 5)\n",
        "2\n",
        "int32\n",
        "4\n",
        "15\n",
        "<type 'numpy.ndarray'>\n"
       ]
      }
     ],
     "prompt_number": 5
    },
    {
     "cell_type": "code",
     "collapsed": false,
     "input": [
      "a = array([2,3,5])\n",
      "print a.dtype\n",
      "b = array([1.2, 3.5, 5.1])\n",
      "print b.dtype\n",
      "c = array(['rachel' ,'katie' , 'lide', 'casey', 'wws', 'jason', 'kjdfdskfjkdskfjsdk'])\n",
      "print c.dtype"
     ],
     "language": "python",
     "metadata": {},
     "outputs": [
      {
       "output_type": "stream",
       "stream": "stdout",
       "text": [
        "int64\n",
        "float64\n",
        "|S18\n"
       ]
      }
     ],
     "prompt_number": 6
    },
    {
     "cell_type": "code",
     "collapsed": false,
     "input": [
      "c = array( [ [1,2], [3,4] ], dtype=complex )\n",
      "print c\n",
      "c"
     ],
     "language": "python",
     "metadata": {},
     "outputs": [
      {
       "output_type": "stream",
       "stream": "stdout",
       "text": [
        "[[ 1.+0.j  2.+0.j]\n",
        " [ 3.+0.j  4.+0.j]]\n"
       ]
      },
      {
       "metadata": {},
       "output_type": "pyout",
       "prompt_number": 7,
       "text": [
        "array([[ 1.+0.j,  2.+0.j],\n",
        "       [ 3.+0.j,  4.+0.j]])"
       ]
      }
     ],
     "prompt_number": 7
    },
    {
     "cell_type": "code",
     "collapsed": false,
     "input": [
      "a = range(10)\n",
      "[log(x) for x in a]"
     ],
     "language": "python",
     "metadata": {},
     "outputs": [
      {
       "output_type": "stream",
       "stream": "stderr",
       "text": [
        "-c:2: RuntimeWarning: divide by zero encountered in log\n"
       ]
      },
      {
       "metadata": {},
       "output_type": "pyout",
       "prompt_number": 8,
       "text": [
        "[-inf,\n",
        " 0.0,\n",
        " 0.69314718055994529,\n",
        " 1.0986122886681098,\n",
        " 1.3862943611198906,\n",
        " 1.6094379124341003,\n",
        " 1.791759469228055,\n",
        " 1.9459101490553132,\n",
        " 2.0794415416798357,\n",
        " 2.1972245773362196]"
       ]
      }
     ],
     "prompt_number": 8
    },
    {
     "cell_type": "code",
     "collapsed": false,
     "input": [
      "a = arange(15).reshape(5,3)\n",
      "print log(a)"
     ],
     "language": "python",
     "metadata": {},
     "outputs": [
      {
       "output_type": "stream",
       "stream": "stdout",
       "text": [
        "[[       -inf  0.          0.69314718]\n",
        " [ 1.09861229  1.38629436  1.60943791]\n",
        " [ 1.79175947  1.94591015  2.07944154]\n",
        " [ 2.19722458  2.30258509  2.39789527]\n",
        " [ 2.48490665  2.56494936  2.63905733]]\n"
       ]
      }
     ],
     "prompt_number": 9
    },
    {
     "cell_type": "code",
     "collapsed": false,
     "input": [
      "print zeros( (3,4) )\n",
      "print ones( (2,3,4), dtype=int16 )\n",
      "print empty ((2,3))"
     ],
     "language": "python",
     "metadata": {},
     "outputs": [
      {
       "output_type": "stream",
       "stream": "stdout",
       "text": [
        "[[ 0.  0.  0.  0.]\n",
        " [ 0.  0.  0.  0.]\n",
        " [ 0.  0.  0.  0.]]\n",
        "[[[1 1 1 1]\n",
        "  [1 1 1 1]\n",
        "  [1 1 1 1]]\n",
        "\n",
        " [[1 1 1 1]\n",
        "  [1 1 1 1]\n",
        "  [1 1 1 1]]]\n",
        "[[  6.94295679e-310   3.43082742e-316   3.95252517e-323]\n",
        " [  9.88131292e-324   0.00000000e+000   0.00000000e+000]]\n"
       ]
      }
     ],
     "prompt_number": 10
    },
    {
     "cell_type": "code",
     "collapsed": false,
     "input": [
      "print array(['NA']*10)\n",
      "a = tile('NA', (1,10))\n",
      "b = tile('NA', (10,))\n",
      "print a.ndim, b.ndim\n",
      "print a[0][5], b[5]"
     ],
     "language": "python",
     "metadata": {},
     "outputs": [
      {
       "output_type": "stream",
       "stream": "stdout",
       "text": [
        "['NA' 'NA' 'NA' 'NA' 'NA' 'NA' 'NA' 'NA' 'NA' 'NA']\n",
        "2 1\n",
        "NA NA\n"
       ]
      }
     ],
     "prompt_number": 11
    },
    {
     "cell_type": "code",
     "collapsed": false,
     "input": [
      "a = np.arange(15).reshape(3,5)\n",
      "print a\n",
      "print a[:,1]\n",
      "print a[2,:]\n",
      "print a[:,-1]\n",
      "print a[0:2, 0:3]\n",
      "a[:,1] = 2222\n",
      "print a\n",
      "print a[:,2]+a[:,3]"
     ],
     "language": "python",
     "metadata": {},
     "outputs": [
      {
       "ename": "NameError",
       "evalue": "name 'np' is not defined",
       "output_type": "pyerr",
       "traceback": [
        "\u001b[1;31m---------------------------------------------------------------------------\u001b[0m\n\u001b[1;31mNameError\u001b[0m                                 Traceback (most recent call last)",
        "\u001b[1;32m<ipython-input-12-40c776ec6f32>\u001b[0m in \u001b[0;36m<module>\u001b[1;34m()\u001b[0m\n\u001b[1;32m----> 1\u001b[1;33m \u001b[0ma\u001b[0m \u001b[1;33m=\u001b[0m \u001b[0mnp\u001b[0m\u001b[1;33m.\u001b[0m\u001b[0marange\u001b[0m\u001b[1;33m(\u001b[0m\u001b[1;36m15\u001b[0m\u001b[1;33m)\u001b[0m\u001b[1;33m.\u001b[0m\u001b[0mreshape\u001b[0m\u001b[1;33m(\u001b[0m\u001b[1;36m3\u001b[0m\u001b[1;33m,\u001b[0m\u001b[1;36m5\u001b[0m\u001b[1;33m)\u001b[0m\u001b[1;33m\u001b[0m\u001b[0m\n\u001b[0m\u001b[0;32m      2\u001b[0m \u001b[1;32mprint\u001b[0m \u001b[0ma\u001b[0m\u001b[1;33m\u001b[0m\u001b[0m\n\u001b[0;32m      3\u001b[0m \u001b[1;32mprint\u001b[0m \u001b[0ma\u001b[0m\u001b[1;33m[\u001b[0m\u001b[1;33m:\u001b[0m\u001b[1;33m,\u001b[0m\u001b[1;36m1\u001b[0m\u001b[1;33m]\u001b[0m\u001b[1;33m\u001b[0m\u001b[0m\n\u001b[0;32m      4\u001b[0m \u001b[1;32mprint\u001b[0m \u001b[0ma\u001b[0m\u001b[1;33m[\u001b[0m\u001b[1;36m2\u001b[0m\u001b[1;33m,\u001b[0m\u001b[1;33m:\u001b[0m\u001b[1;33m]\u001b[0m\u001b[1;33m\u001b[0m\u001b[0m\n\u001b[0;32m      5\u001b[0m \u001b[1;32mprint\u001b[0m \u001b[0ma\u001b[0m\u001b[1;33m[\u001b[0m\u001b[1;33m:\u001b[0m\u001b[1;33m,\u001b[0m\u001b[1;33m-\u001b[0m\u001b[1;36m1\u001b[0m\u001b[1;33m]\u001b[0m\u001b[1;33m\u001b[0m\u001b[0m\n",
        "\u001b[1;31mNameError\u001b[0m: name 'np' is not defined"
       ]
      }
     ],
     "prompt_number": 12
    },
    {
     "cell_type": "code",
     "collapsed": false,
     "input": [
      "print arange( 10, 30, 5 )\n",
      "print arange( 0, 2, 0.3 )                 # it accepts float arguments\n",
      "print linspace( 0, 2, 9 )                 # 9 numbers from 0 to 2\n",
      "set_printoptions(threshold='nan')"
     ],
     "language": "python",
     "metadata": {},
     "outputs": [
      {
       "output_type": "stream",
       "stream": "stdout",
       "text": [
        "[10 15 20 25]\n",
        "[ 0.   0.3  0.6  0.9  1.2  1.5  1.8]\n",
        "[ 0.    0.25  0.5   0.75  1.    1.25  1.5   1.75  2.  ]\n"
       ]
      }
     ],
     "prompt_number": 13
    },
    {
     "cell_type": "code",
     "collapsed": false,
     "input": [
      "np.random.randint(0, 10, (10,))"
     ],
     "language": "python",
     "metadata": {},
     "outputs": [
      {
       "ename": "NameError",
       "evalue": "name 'np' is not defined",
       "output_type": "pyerr",
       "traceback": [
        "\u001b[1;31m---------------------------------------------------------------------------\u001b[0m\n\u001b[1;31mNameError\u001b[0m                                 Traceback (most recent call last)",
        "\u001b[1;32m<ipython-input-14-58af9b480971>\u001b[0m in \u001b[0;36m<module>\u001b[1;34m()\u001b[0m\n\u001b[1;32m----> 1\u001b[1;33m \u001b[0mnp\u001b[0m\u001b[1;33m.\u001b[0m\u001b[0mrandom\u001b[0m\u001b[1;33m.\u001b[0m\u001b[0mrandint\u001b[0m\u001b[1;33m(\u001b[0m\u001b[1;36m0\u001b[0m\u001b[1;33m,\u001b[0m \u001b[1;36m10\u001b[0m\u001b[1;33m,\u001b[0m \u001b[1;33m(\u001b[0m\u001b[1;36m10\u001b[0m\u001b[1;33m,\u001b[0m\u001b[1;33m)\u001b[0m\u001b[1;33m)\u001b[0m\u001b[1;33m\u001b[0m\u001b[0m\n\u001b[0m",
        "\u001b[1;31mNameError\u001b[0m: name 'np' is not defined"
       ]
      }
     ],
     "prompt_number": 14
    },
    {
     "cell_type": "code",
     "collapsed": false,
     "input": [
      "import numpy as np\n",
      "from scipy.interpolate import interp1d\n",
      "x = np.linspace(0, 10, 10)\n",
      "y = np.cos(-x**2/8.0)\n",
      "print x\n",
      "print y\n",
      "\n",
      "f = interp1d(x, y)\n",
      "f2 = interp1d(x, y, kind='cubic')\n",
      "xnew = np.linspace(0, 10, 40)\n",
      "print f(xnew)\n",
      "print f2(xnew)"
     ],
     "language": "python",
     "metadata": {},
     "outputs": [
      {
       "output_type": "stream",
       "stream": "stdout",
       "text": [
        "[  0.           1.11111111   2.22222222   3.33333333   4.44444444\n",
        "   5.55555556   6.66666667   7.77777778   8.88888889  10.        ]\n",
        "[ 1.          0.98811613  0.81545357  0.18090587 -0.78229363 -0.7541536\n",
        "  0.74675295  0.28811065 -0.89967788  0.99779828]\n",
        "[ 1.          0.99725757  0.99451514  0.9917727   0.98903027  0.96155266\n",
        "  0.92170745  0.88186225  0.84201704  0.76664221  0.62020813  0.47377404\n",
        "  0.32733995  0.18090587 -0.04137094 -0.26364775 -0.48592456 -0.70820136\n",
        " -0.7779644  -0.77147054 -0.76497669 -0.75848283 -0.63869925 -0.2923362\n",
        "  0.05402685  0.4003899   0.74675295  0.64091242  0.53507189  0.42923136\n",
        "  0.32339083  0.10537395 -0.16873109 -0.44283614 -0.71694118 -0.75371817\n",
        " -0.31583906  0.12204005  0.55991917  0.99779828]\n",
        "[ 1.          0.99343027  0.99248264  0.99288118  0.99034997  0.9806178\n",
        "  0.95946813  0.92271972  0.86619189  0.78572234  0.67825124  0.5424275\n",
        "  0.37704707  0.18090587 -0.04386264 -0.28177481 -0.51400948 -0.72174549\n",
        " -0.88594287 -0.98501836 -0.99574782 -0.89487978 -0.65977745 -0.30468538\n",
        "  0.0989858   0.47490796  0.74675295  0.85574279  0.81330005  0.64839748\n",
        "  0.39000782  0.06819962 -0.27421953 -0.5862233  -0.81664843 -0.91435337\n",
        " -0.82950265 -0.51428513  0.07893618  0.99779828]\n"
       ]
      }
     ],
     "prompt_number": 15
    },
    {
     "cell_type": "code",
     "collapsed": false,
     "input": [
      "import matplotlib.pyplot as plt\n",
      "plt.plot(x,y,'o',xnew,f(xnew),'-', xnew, f2(xnew),'--')\n",
      "plt.legend(['data', 'linear', 'cubic'], loc='best')\n",
      "plt.ylim([-2,2])\n",
      "plt.show\n",
      "plt.savefig('casey.svg')"
     ],
     "language": "python",
     "metadata": {},
     "outputs": [
      {
       "metadata": {},
       "output_type": "display_data",
       "png": "[encoded data removed]",
       "text": [
        "<matplotlib.figure.Figure at 0x430cc10>"
       ]
      }
     ],
     "prompt_number": 16
    },
    {
     "cell_type": "code",
     "collapsed": false,
     "input": [
      "time = linspace(20, 145, 5)                 # time scale\n",
      "data = sin(arange(20)).reshape(5,4)         # 4 time-dependent series\n",
      "print time\n",
      "print data\n",
      "\n",
      "ind = data.argmax(axis=0)                   # index of the maxima for each series\n",
      "print ind\n",
      "array([2, 0, 3, 1])\n",
      "\n",
      "time_max = time[ ind]                       # times corresponding to the maxima\n",
      "data_max = data[ind, xrange(data.shape[1])] # => data[ind[0],0], data[ind[1],1]...\n",
      "print time_max\n",
      "print data_max\n",
      "all(data_max == data.max(axis=0))"
     ],
     "language": "python",
     "metadata": {},
     "outputs": [
      {
       "output_type": "stream",
       "stream": "stdout",
       "text": [
        "[  20.     51.25   82.5   113.75  145.  ]\n",
        "[[ 0.          0.84147098  0.90929743  0.14112001]\n",
        " [-0.7568025  -0.95892427 -0.2794155   0.6569866 ]\n",
        " [ 0.98935825  0.41211849 -0.54402111 -0.99999021]\n",
        " [-0.53657292  0.42016704  0.99060736  0.65028784]\n",
        " [-0.28790332 -0.96139749 -0.75098725  0.14987721]]\n",
        "[2 0 3 1]\n",
        "[  82.5    20.    113.75   51.25]\n",
        "[ 0.98935825  0.84147098  0.99060736  0.6569866 ]\n"
       ]
      },
      {
       "metadata": {},
       "output_type": "pyout",
       "prompt_number": 17,
       "text": [
        "True"
       ]
      }
     ],
     "prompt_number": 17
    },
    {
     "cell_type": "code",
     "collapsed": false,
     "input": [
      "N = 5\n",
      "menMeans = (20, 35, 30, 35, 27)\n",
      "menStd = (2, 3, 4, 1, 2)\n",
      "\n",
      "ind = np.arange(N)  # the x locations for the groups\n",
      "width = 0.35  # the width of the bars\n",
      "\n",
      "fig, ax = plt.subplots()\n",
      "rects1 = ax.bar(ind, menMeans, width, color='r', yerr=menStd)\n",
      "\n",
      "womenMeans = (25, 32, 34, 20, 25)\n",
      "womenStd = (3, 5, 2, 3, 3)\n",
      "rects2 = ax.bar(ind + width, womenMeans, width, color='y', yerr=womenStd)\n",
      "\n",
      "# add some\n",
      "ax.set_ylabel('Scores')\n",
      "ax.set_title('Scores by group and gender')\n",
      "ax.set_xticks(ind + width)\n",
      "ax.set_xticklabels(('G1', 'G2', 'G3', 'G4', 'G5'))\n",
      "\n",
      "ax.legend((rects1[0], rects2[0]), ('Men', 'Women'))\n",
      "\n",
      "def autolabel(ax, rects):\n",
      "    # attach some text labels\n",
      "    for rect in rects:\n",
      "        height = rect.get_height()\n",
      "        ax.text(rect.get_x() + rect.get_width() / 2., 1.05 * height, '%d' % int(height),\n",
      "                ha='center', va='bottom')\n",
      "\n",
      "autolabel(ax, rects1)\n",
      "autolabel(ax, rects2)\n",
      "\n",
      "plt.show()"
     ],
     "language": "python",
     "metadata": {},
     "outputs": [
      {
       "metadata": {},
       "output_type": "display_data",
       "png": "[encoded data removed]",
       "text": [
        "<matplotlib.figure.Figure at 0x4670bd0>"
       ]
      }
     ],
     "prompt_number": 18
    },
    {
     "cell_type": "code",
     "collapsed": false,
     "input": [
      "a = arange(15).reshape(3,5)\n",
      "print a\n",
      "print median(a, axis=0)"
     ],
     "language": "python",
     "metadata": {},
     "outputs": [
      {
       "output_type": "stream",
       "stream": "stdout",
       "text": [
        "[[ 0  1  2  3  4]\n",
        " [ 5  6  7  8  9]\n",
        " [10 11 12 13 14]]\n",
        "[ 5.  6.  7.  8.  9.]\n"
       ]
      }
     ],
     "prompt_number": 19
    },
    {
     "cell_type": "code",
     "collapsed": false,
     "input": [
      "plt.bar(arange(10), arange(10))"
     ],
     "language": "python",
     "metadata": {},
     "outputs": [
      {
       "metadata": {},
       "output_type": "pyout",
       "prompt_number": 20,
       "text": [
        "<Container object of 10 artists>"
       ]
      },
      {
       "metadata": {},
       "output_type": "display_data",
       "png": "[encoded data removed]",
       "text": [
        "<matplotlib.figure.Figure at 0x475f050>"
       ]
      }
     ],
     "prompt_number": 20
    },
    {
     "cell_type": "code",
     "collapsed": false,
     "input": [],
     "language": "python",
     "metadata": {},
     "outputs": [],
     "prompt_number": 20
    },
    {
     "cell_type": "code",
     "collapsed": false,
     "input": [],
     "language": "python",
     "metadata": {},
     "outputs": []
    }
   ],
   "metadata": {}
  }
 ]
}