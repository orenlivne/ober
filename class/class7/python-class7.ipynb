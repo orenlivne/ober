{
 "metadata": {
  "name": ""
 },
 "nbformat": 3,
 "nbformat_minor": 0,
 "worksheets": [
  {
   "cells": [
    {
     "cell_type": "code",
     "collapsed": false,
     "input": [
      "%matplotlib inline"
     ],
     "language": "python",
     "metadata": {},
     "outputs": [],
     "prompt_number": 26
    },
    {
     "cell_type": "code",
     "collapsed": false,
     "input": [
      "from numpy import *\n",
      "arange(15)\n",
      "a = arange(15).reshape(3, 5)"
     ],
     "language": "python",
     "metadata": {},
     "outputs": [],
     "prompt_number": 27
    },
    {
     "cell_type": "code",
     "collapsed": false,
     "input": [
      "print a.shape\n",
      "print a.ndim\n",
      "print a.dtype.name\n",
      "print a.itemsize\n",
      "print a.size\n",
      "print type(a)"
     ],
     "language": "python",
     "metadata": {},
     "outputs": [
      {
       "output_type": "stream",
       "stream": "stdout",
       "text": [
        "(3, 5)\n",
        "2\n",
        "int64\n",
        "8\n",
        "15\n",
        "<type 'numpy.ndarray'>\n"
       ]
      }
     ],
     "prompt_number": 28
    },
    {
     "cell_type": "code",
     "collapsed": false,
     "input": [
      "%matplotlib inlinea = array([2,3,5])\n",
      "print a.dtype\n",
      "b = array([1.2, 3.5, 5.1])\n",
      "print b.dtype"
     ],
     "language": "python",
     "metadata": {},
     "outputs": [
      {
       "output_type": "stream",
       "stream": "stderr",
       "text": [
        "UsageError: unrecognized arguments: = array([2,3,5])"
       ]
      }
     ],
     "prompt_number": 29
    },
    {
     "cell_type": "code",
     "collapsed": false,
     "input": [
      "c = array( [ [1,2], [3,4] ], dtype=complex )\n",
      "print c\n",
      "c"
     ],
     "language": "python",
     "metadata": {},
     "outputs": [
      {
       "output_type": "stream",
       "stream": "stdout",
       "text": [
        "[[ 1.+0.j  2.+0.j]\n",
        " [ 3.+0.j  4.+0.j]]\n"
       ]
      },
      {
       "metadata": {},
       "output_type": "pyout",
       "prompt_number": 30,
       "text": [
        "array([[ 1.+0.j,  2.+0.j],\n",
        "       [ 3.+0.j,  4.+0.j]])"
       ]
      }
     ],
     "prompt_number": 30
    },
    {
     "cell_type": "code",
     "collapsed": false,
     "input": [
      "%matplotlib inlineprint zeros( (3,4) )\n",
      "print ones( (2,3,4), dtype=int16 )\n",
      "print empty ((2,3))"
     ],
     "language": "python",
     "metadata": {},
     "outputs": [
      {
       "output_type": "stream",
       "stream": "stderr",
       "text": [
        "UsageError: unrecognized arguments: zeros( (3,4) )"
       ]
      }
     ],
     "prompt_number": 31
    },
    {
     "cell_type": "code",
     "collapsed": false,
     "input": [
      "print arange( 10, 30, 5 )\n",
      "print arange( 0, 2, 0.3 )                 # it accepts float arguments\n",
      "print linspace( 0, 2, 9 )                 # 9 numbers from 0 to 2\n",
      "set_printoptions(threshold='nan')"
     ],
     "language": "python",
     "metadata": {},
     "outputs": [
      {
       "output_type": "stream",
       "stream": "stdout",
       "text": [
        "[10 15 20 25]\n",
        "[ 0.   0.3  0.6  0.9  1.2  1.5  1.8]\n",
        "[ 0.    0.25  0.5   0.75  1.    1.25  1.5   1.75  2.  ]\n"
       ]
      }
     ],
     "prompt_number": 32
    },
    {
     "cell_type": "code",
     "collapsed": false,
     "input": [
      "import numpy as np\n",
      "from scipy.interpolate import interp1d\n",
      "x = np.linspace(0, 10, 10)\n",
      "y = np.cos(-x**2/8.0)\n",
      "f = interp1d(x, y)\n",
      "f2 = interp1d(x, y, kind='cubic')\n",
      "xnew = np.linspace(0, 10, 40)"
     ],
     "language": "python",
     "metadata": {},
     "outputs": [],
     "prompt_number": 33
    },
    {
     "cell_type": "code",
     "collapsed": false,
     "input": [
      "import matplotlib.pyplot as plt\n",
      "plt.plot(x,y,'o',xnew,f(xnew),'-', xnew, f2(xnew),'--')\n",
      "plt.legend(['data', 'linear', 'cubic'], loc='best')\n",
      "plt.show()"
     ],
     "language": "python",
     "metadata": {},
     "outputs": [
      {
       "metadata": {},
       "output_type": "display_data",
       "png": "[encoded data removed]",
       "text": [
        "<matplotlib.figure.Figure at 0x44a4c10>"
       ]
      }
     ],
     "prompt_number": 34
    },
    {
     "cell_type": "code",
     "collapsed": false,
     "input": [
      "time = linspace(20, 145, 5)                 # time scale\n",
      "data = sin(arange(20)).reshape(5,4)         # 4 time-dependent series\n",
      "print time\n",
      "print data\n",
      "\n",
      "ind = data.argmax(axis=0)                   # index of the maxima for each series\n",
      "print ind\n",
      "array([2, 0, 3, 1])\n",
      "\n",
      "time_max = time[ ind]                       # times corresponding to the maxima\n",
      "data_max = data[ind, xrange(data.shape[1])] # => data[ind[0],0], data[ind[1],1]...\n",
      "print time_max\n",
      "print data_max\n",
      "all(data_max == data.max(axis=0))"
     ],
     "language": "python",
     "metadata": {},
     "outputs": [
      {
       "output_type": "stream",
       "stream": "stdout",
       "text": [
        "[  20.     51.25   82.5   113.75  145.  ]\n",
        "[[ 0.          0.84147098  0.90929743  0.14112001]\n",
        " [-0.7568025  -0.95892427 -0.2794155   0.6569866 ]\n",
        " [ 0.98935825  0.41211849 -0.54402111 -0.99999021]\n",
        " [-0.53657292  0.42016704  0.99060736  0.65028784]\n",
        " [-0.28790332 -0.96139749 -0.75098725  0.14987721]]\n",
        "[2 0 3 1]\n",
        "[  82.5    20.    113.75   51.25]\n",
        "[ 0.98935825  0.84147098  0.99060736  0.6569866 ]\n"
       ]
      },
      {
       "metadata": {},
       "output_type": "pyout",
       "prompt_number": 35,
       "text": [
        "True"
       ]
      }
     ],
     "prompt_number": 35
    },
    {
     "cell_type": "code",
     "collapsed": false,
     "input": [],
     "language": "python",
     "metadata": {},
     "outputs": [],
     "prompt_number": 24
    }
   ],
   "metadata": {}
  }
 ]
}