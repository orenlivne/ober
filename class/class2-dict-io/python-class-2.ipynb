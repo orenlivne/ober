{
 "metadata": {
  "name": ""
 },
 "nbformat": 3,
 "nbformat_minor": 0,
 "worksheets": [
  {
   "cells": [
    {
     "cell_type": "code",
     "collapsed": false,
     "input": [
      "x = 1\n",
      "b = False\n",
      "y = 2.3456e7\n",
      "s = 'this is a string'\n",
      "print x, b, y, s"
     ],
     "language": "python",
     "metadata": {},
     "outputs": [
      {
       "output_type": "stream",
       "stream": "stdout",
       "text": [
        "1 False 23456000.0 this is a string\n"
       ]
      }
     ],
     "prompt_number": 1
    },
    {
     "cell_type": "code",
     "collapsed": false,
     "input": [
      "print '%d %s %-20.3f %s\\n' % (x, b, y, s)"
     ],
     "language": "python",
     "metadata": {},
     "outputs": [
      {
       "output_type": "stream",
       "stream": "stdout",
       "text": [
        "1 False 23456000.000         this is a string\n",
        "\n"
       ]
      }
     ],
     "prompt_number": 5
    },
    {
     "cell_type": "code",
     "collapsed": false,
     "input": [
      "a = [1,2,5,1,6,-1]\n",
      "b = set(a)\n",
      "print a\n",
      "print b"
     ],
     "language": "python",
     "metadata": {},
     "outputs": [
      {
       "output_type": "stream",
       "stream": "stdout",
       "text": [
        "[1, 2, 5, 1, 6, -1]\n",
        "set([1, 2, -1, 5, 6])\n"
       ]
      }
     ],
     "prompt_number": 6
    },
    {
     "cell_type": "code",
     "collapsed": false,
     "input": [
      "d = { 'rs1234': 6789067, 'rs244': 770000 }\n",
      "print d['rs1234']\n",
      "#print d['NOT FOUND']\n",
      "d['rs456'] = 99999\n",
      "d['rs1234'] = 0\n",
      "del d['rs1234']\n",
      "print d"
     ],
     "language": "python",
     "metadata": {},
     "outputs": [
      {
       "output_type": "stream",
       "stream": "stdout",
       "text": [
        "6789067\n",
        "{'rs244': 770000, 'rs456': 99999}\n"
       ]
      }
     ],
     "prompt_number": 12
    },
    {
     "cell_type": "code",
     "collapsed": false,
     "input": [
      "print a[1]"
     ],
     "language": "python",
     "metadata": {},
     "outputs": [
      {
       "output_type": "stream",
       "stream": "stdout",
       "text": [
        "2\n"
       ]
      }
     ],
     "prompt_number": 8
    },
    {
     "cell_type": "code",
     "collapsed": false,
     "input": [
      "dir(d)"
     ],
     "language": "python",
     "metadata": {},
     "outputs": [
      {
       "metadata": {},
       "output_type": "pyout",
       "prompt_number": 13,
       "text": [
        "['__class__',\n",
        " '__cmp__',\n",
        " '__contains__',\n",
        " '__delattr__',\n",
        " '__delitem__',\n",
        " '__doc__',\n",
        " '__eq__',\n",
        " '__format__',\n",
        " '__ge__',\n",
        " '__getattribute__',\n",
        " '__getitem__',\n",
        " '__gt__',\n",
        " '__hash__',\n",
        " '__init__',\n",
        " '__iter__',\n",
        " '__le__',\n",
        " '__len__',\n",
        " '__lt__',\n",
        " '__ne__',\n",
        " '__new__',\n",
        " '__reduce__',\n",
        " '__reduce_ex__',\n",
        " '__repr__',\n",
        " '__setattr__',\n",
        " '__setitem__',\n",
        " '__sizeof__',\n",
        " '__str__',\n",
        " '__subclasshook__',\n",
        " 'clear',\n",
        " 'copy',\n",
        " 'fromkeys',\n",
        " 'get',\n",
        " 'has_key',\n",
        " 'items',\n",
        " 'iteritems',\n",
        " 'iterkeys',\n",
        " 'itervalues',\n",
        " 'keys',\n",
        " 'pop',\n",
        " 'popitem',\n",
        " 'setdefault',\n",
        " 'update',\n",
        " 'values',\n",
        " 'viewitems',\n",
        " 'viewkeys',\n",
        " 'viewvalues']"
       ]
      }
     ],
     "prompt_number": 13
    },
    {
     "cell_type": "code",
     "collapsed": false,
     "input": [
      "print d"
     ],
     "language": "python",
     "metadata": {},
     "outputs": [
      {
       "output_type": "stream",
       "stream": "stdout",
       "text": [
        "{'rs244': 770000, 'rs456': 99999}\n"
       ]
      }
     ],
     "prompt_number": 14
    },
    {
     "cell_type": "code",
     "collapsed": false,
     "input": [
      "d.pop('rs244')\n",
      "print d"
     ],
     "language": "python",
     "metadata": {},
     "outputs": [
      {
       "output_type": "stream",
       "stream": "stdout",
       "text": [
        "{'rs456': 99999}\n"
       ]
      }
     ],
     "prompt_number": 15
    },
    {
     "cell_type": "code",
     "collapsed": false,
     "input": [
      "d = {(1,2): 98765}\n",
      "print d[(1,2)]\n",
      "d = {22: { 9876: 'rs1234'}}\n",
      "print d[22][9876]"
     ],
     "language": "python",
     "metadata": {},
     "outputs": [
      {
       "output_type": "stream",
       "stream": "stdout",
       "text": [
        "98765\n",
        "rs1234\n"
       ]
      }
     ],
     "prompt_number": 16
    },
    {
     "cell_type": "code",
     "collapsed": false,
     "input": [
      "d = dict([('rs1234', 9876), ('rs343434', 9999)])\n",
      "print d"
     ],
     "language": "python",
     "metadata": {},
     "outputs": [
      {
       "output_type": "stream",
       "stream": "stdout",
       "text": [
        "{'rs343434': 9999, 'rs1234': 9876}\n"
       ]
      }
     ],
     "prompt_number": 18
    },
    {
     "cell_type": "code",
     "collapsed": false,
     "input": [
      "print range(10)"
     ],
     "language": "python",
     "metadata": {},
     "outputs": [
      {
       "output_type": "stream",
       "stream": "stdout",
       "text": [
        "[0, 1, 2, 3, 4, 5, 6, 7, 8, 9]\n"
       ]
      }
     ],
     "prompt_number": 19
    },
    {
     "cell_type": "code",
     "collapsed": false,
     "input": [
      "for i in range(10): print i"
     ],
     "language": "python",
     "metadata": {},
     "outputs": [
      {
       "output_type": "stream",
       "stream": "stdout",
       "text": [
        "0\n",
        "1\n",
        "2\n",
        "3\n",
        "4\n",
        "5\n",
        "6\n",
        "7\n",
        "8\n",
        "9\n"
       ]
      }
     ],
     "prompt_number": 20
    },
    {
     "cell_type": "code",
     "collapsed": false,
     "input": [
      "for i in range(10, 20, 2): print i"
     ],
     "language": "python",
     "metadata": {},
     "outputs": [
      {
       "output_type": "stream",
       "stream": "stdout",
       "text": [
        "10\n",
        "12\n",
        "14\n",
        "16\n",
        "18\n"
       ]
      }
     ],
     "prompt_number": 22
    },
    {
     "cell_type": "code",
     "collapsed": false,
     "input": [
      "for i in xrange(10):\n",
      "    print i"
     ],
     "language": "python",
     "metadata": {},
     "outputs": [
      {
       "output_type": "stream",
       "stream": "stdout",
       "text": [
        "0\n",
        "1\n",
        "2\n",
        "3\n",
        "4\n",
        "5\n",
        "6\n",
        "7\n",
        "8\n",
        "9\n"
       ]
      }
     ],
     "prompt_number": 23
    },
    {
     "cell_type": "code",
     "collapsed": false,
     "input": [
      "print xrange(10)"
     ],
     "language": "python",
     "metadata": {},
     "outputs": [
      {
       "output_type": "stream",
       "stream": "stdout",
       "text": [
        "xrange(10)\n"
       ]
      }
     ],
     "prompt_number": 24
    },
    {
     "cell_type": "code",
     "collapsed": false,
     "input": [
      "snp = ['rs2980300', 'rs6685064', 'rs3766180', 'rs6603791', 'rs7519837', 'rs2281173', 'rs1107910', 'rs2272908', 'rs3737628', 'rs9786963', 'rs10907187', 'rs7511905']\n",
      "pos = [785989, 1211292, 1478153, 1500941, 1510801, 1688192, 1692321, 1721479, 1722932, 1759026, 1759054, 1793786]\n"
     ],
     "language": "python",
     "metadata": {},
     "outputs": [],
     "prompt_number": 25
    },
    {
     "cell_type": "code",
     "collapsed": false,
     "input": [
      "print zip(snp, pos)"
     ],
     "language": "python",
     "metadata": {},
     "outputs": [
      {
       "output_type": "stream",
       "stream": "stdout",
       "text": [
        "[('rs2980300', 785989), ('rs6685064', 1211292), ('rs3766180', 1478153), ('rs6603791', 1500941), ('rs7519837', 1510801), ('rs2281173', 1688192), ('rs1107910', 1692321), ('rs2272908', 1721479), ('rs3737628', 1722932), ('rs9786963', 1759026), ('rs10907187', 1759054), ('rs7511905', 1793786)]\n"
       ]
      }
     ],
     "prompt_number": 26
    },
    {
     "cell_type": "code",
     "collapsed": false,
     "input": [
      "print zip(snp, pos, pos)"
     ],
     "language": "python",
     "metadata": {},
     "outputs": [
      {
       "output_type": "stream",
       "stream": "stdout",
       "text": [
        "[('rs2980300', 785989, 785989), ('rs6685064', 1211292, 1211292), ('rs3766180', 1478153, 1478153), ('rs6603791', 1500941, 1500941), ('rs7519837', 1510801, 1510801), ('rs2281173', 1688192, 1688192), ('rs1107910', 1692321, 1692321), ('rs2272908', 1721479, 1721479), ('rs3737628', 1722932, 1722932), ('rs9786963', 1759026, 1759026), ('rs10907187', 1759054, 1759054), ('rs7511905', 1793786, 1793786)]\n"
       ]
      }
     ],
     "prompt_number": 27
    },
    {
     "cell_type": "code",
     "collapsed": false,
     "input": [
      "print dict(zip(snp, pos))"
     ],
     "language": "python",
     "metadata": {},
     "outputs": [
      {
       "output_type": "stream",
       "stream": "stdout",
       "text": [
        "{'rs2980300': 785989, 'rs3766180': 1478153, 'rs10907187': 1759054, 'rs6685064': 1211292, 'rs9786963': 1759026, 'rs2281173': 1688192, 'rs2272908': 1721479, 'rs1107910': 1692321, 'rs7519837': 1510801, 'rs6603791': 1500941, 'rs7511905': 1793786, 'rs3737628': 1722932}\n"
       ]
      }
     ],
     "prompt_number": 28
    },
    {
     "cell_type": "code",
     "collapsed": false,
     "input": [
      "a = ['a', 'b', 'c']\n",
      "print list(enumerate(a))\n",
      "for i, x in enumerate(a):\n",
      "    print i, x"
     ],
     "language": "python",
     "metadata": {},
     "outputs": [
      {
       "output_type": "stream",
       "stream": "stdout",
       "text": [
        "[(0, 'a'), (1, 'b'), (2, 'c')]\n",
        "0 a\n",
        "1 b\n",
        "2 c\n"
       ]
      }
     ],
     "prompt_number": 30
    },
    {
     "cell_type": "code",
     "collapsed": false,
     "input": [
      "print d"
     ],
     "language": "python",
     "metadata": {},
     "outputs": [
      {
       "output_type": "stream",
       "stream": "stdout",
       "text": [
        "{'rs343434': 9999, 'rs1234': 9876}\n"
       ]
      }
     ],
     "prompt_number": 31
    },
    {
     "cell_type": "code",
     "collapsed": false,
     "input": [
      "for k,v in d.iteritems(): print k, v"
     ],
     "language": "python",
     "metadata": {},
     "outputs": [
      {
       "output_type": "stream",
       "stream": "stdout",
       "text": [
        "rs343434 9999\n",
        "rs1234 9876\n"
       ]
      }
     ],
     "prompt_number": 33
    },
    {
     "cell_type": "code",
     "collapsed": false,
     "input": [
      "a = [1, 2, 3]\n",
      "b = ['r', 's', 't']\n",
      "print zip(a,b)\n",
      "A, B = zip(*zip(a,b))\n",
      "print A,B"
     ],
     "language": "python",
     "metadata": {},
     "outputs": [
      {
       "output_type": "stream",
       "stream": "stdout",
       "text": [
        "[(1, 'r'), (2, 's'), (3, 't')]\n",
        "(1, 2, 3) ('r', 's', 't')\n"
       ]
      }
     ],
     "prompt_number": 36
    }
   ],
   "metadata": {}
  }
 ]
}