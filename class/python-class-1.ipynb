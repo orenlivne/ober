{
 "metadata": {
  "name": ""
 },
 "nbformat": 3,
 "nbformat_minor": 0,
 "worksheets": [
  {
   "cells": [
    {
     "cell_type": "code",
     "collapsed": false,
     "input": [
      "x = 1\n",
      "s = 'abc'\n",
      "f = 1.23456\n",
      "'''This is a comment.'''\n",
      "print z"
     ],
     "language": "python",
     "metadata": {},
     "outputs": [
      {
       "ename": "NameError",
       "evalue": "name 'z' is not defined",
       "output_type": "pyerr",
       "traceback": [
        "\u001b[1;31m---------------------------------------------------------------------------\u001b[0m\n\u001b[1;31mNameError\u001b[0m                                 Traceback (most recent call last)",
        "\u001b[1;32m<ipython-input-8-f639419b9617>\u001b[0m in \u001b[0;36m<module>\u001b[1;34m()\u001b[0m\n\u001b[0;32m      3\u001b[0m \u001b[0mf\u001b[0m \u001b[1;33m=\u001b[0m \u001b[1;36m1.23456\u001b[0m\u001b[1;33m\u001b[0m\u001b[0m\n\u001b[0;32m      4\u001b[0m \u001b[1;34m'''This is a comment.'''\u001b[0m\u001b[1;33m\u001b[0m\u001b[0m\n\u001b[1;32m----> 5\u001b[1;33m \u001b[1;32mprint\u001b[0m \u001b[0mz\u001b[0m\u001b[1;33m\u001b[0m\u001b[0m\n\u001b[0m",
        "\u001b[1;31mNameError\u001b[0m: name 'z' is not defined"
       ]
      }
     ],
     "prompt_number": 8
    },
    {
     "cell_type": "code",
     "collapsed": false,
     "input": [
      "print x, s, f"
     ],
     "language": "python",
     "metadata": {},
     "outputs": [
      {
       "output_type": "stream",
       "stream": "stdout",
       "text": [
        "1 abc 1.23456\n"
       ]
      }
     ],
     "prompt_number": 10
    },
    {
     "cell_type": "code",
     "collapsed": false,
     "input": [
      "print '%d %10s %.3s' % (x, s, f)"
     ],
     "language": "python",
     "metadata": {},
     "outputs": [
      {
       "output_type": "stream",
       "stream": "stdout",
       "text": [
        "1        abc 1.2\n"
       ]
      }
     ],
     "prompt_number": 16
    },
    {
     "cell_type": "code",
     "collapsed": false,
     "input": [
      "f = 2*f\n",
      "print f"
     ],
     "language": "python",
     "metadata": {},
     "outputs": [
      {
       "output_type": "stream",
       "stream": "stdout",
       "text": [
        "2.46912\n"
       ]
      }
     ],
     "prompt_number": 17
    },
    {
     "cell_type": "code",
     "collapsed": false,
     "input": [
      "f *= 2\n",
      "print f"
     ],
     "language": "python",
     "metadata": {},
     "outputs": [
      {
       "output_type": "stream",
       "stream": "stdout",
       "text": [
        "4.93824\n"
       ]
      }
     ],
     "prompt_number": 18
    },
    {
     "cell_type": "code",
     "collapsed": false,
     "input": [
      "a = [1,2,3,4,5,1,1]\n",
      "b = set(a)\n",
      "print a, b\n",
      "print len(a), len(b)"
     ],
     "language": "python",
     "metadata": {},
     "outputs": [
      {
       "output_type": "stream",
       "stream": "stdout",
       "text": [
        "[1, 2, 3, 4, 5, 1, 1] set([1, 2, 3, 4, 5])\n",
        "7 5\n"
       ]
      }
     ],
     "prompt_number": 19
    },
    {
     "cell_type": "code",
     "collapsed": false,
     "input": [
      "a = [[1,2,3],[4,5,6,7]]\n",
      "import numpy as np\n",
      "a1 = np.zeros((3,4), dtype=int)\n",
      "print a\n",
      "print a1"
     ],
     "language": "python",
     "metadata": {},
     "outputs": [
      {
       "output_type": "stream",
       "stream": "stdout",
       "text": [
        "[[1, 2, 3], [4, 5, 6, 7]]\n",
        "[[0 0 0 0]\n",
        " [0 0 0 0]\n",
        " [0 0 0 0]]\n"
       ]
      }
     ],
     "prompt_number": 22
    },
    {
     "cell_type": "code",
     "collapsed": false,
     "input": [
      "print a[0]"
     ],
     "language": "python",
     "metadata": {},
     "outputs": [
      {
       "output_type": "stream",
       "stream": "stdout",
       "text": [
        "[1, 2, 3]\n"
       ]
      }
     ],
     "prompt_number": 23
    },
    {
     "cell_type": "code",
     "collapsed": false,
     "input": [
      "d = { 0: 'AA', 1: 'AT', 2: 'TT' , 5: 'TTTTT'}\n",
      "print d[5]"
     ],
     "language": "python",
     "metadata": {},
     "outputs": [
      {
       "output_type": "stream",
       "stream": "stdout",
       "text": [
        "TTTTT\n"
       ]
      }
     ],
     "prompt_number": 25
    },
    {
     "cell_type": "code",
     "collapsed": false,
     "input": [
      "dosage = [1,0,1,2,0,0,5,5,1]\n",
      "\n",
      "print dosage\n",
      "print [d[x] for x in dosage]\n",
      "\n",
      "def f(x):\n",
      "    return d[x]\n",
      "print map(f, dosage)\n",
      "\n",
      "genotypes = map(lambda x: d[x], dosage)\n",
      "\n",
      "def g(s):\n",
      "    return 'A' in s\n",
      "\n",
      "print filter(g, genotypes)\n",
      "\n"
     ],
     "language": "python",
     "metadata": {},
     "outputs": [
      {
       "output_type": "stream",
       "stream": "stdout",
       "text": [
        "[1, 0, 1, 2, 0, 0, 5, 5, 1]\n",
        "['AT', 'AA', 'AT', 'TT', 'AA', 'AA', 'TTTTT', 'TTTTT', 'AT']\n",
        "['AT', 'AA', 'AT', 'TT', 'AA', 'AA', 'TTTTT', 'TTTTT', 'AT']\n",
        "['AT', 'AA', 'AT', 'AA', 'AA', 'AT']\n"
       ]
      }
     ],
     "prompt_number": 41
    },
    {
     "cell_type": "code",
     "collapsed": false,
     "input": [
      "print genotypes\n",
      "\n",
      "t = filter(lambda (i, x): 'A' in x, enumerate(genotypes))\n",
      "print t\n",
      "print map(lambda (i,x): i, t)\n",
      "\n",
      "print [i for (i,x) in enumerate(genotypes) if 'A' in x]"
     ],
     "language": "python",
     "metadata": {},
     "outputs": [
      {
       "output_type": "stream",
       "stream": "stdout",
       "text": [
        "['AT', 'AA', 'AT', 'TT', 'AA', 'AA', 'TTTTT', 'TTTTT', 'AT']\n",
        "[(0, 'AT'), (1, 'AA'), (2, 'AT'), (4, 'AA'), (5, 'AA'), (8, 'AT')]\n",
        "[0, 1, 2, 4, 5, 8]\n",
        "[0, 1, 2, 4, 5, 8]\n"
       ]
      }
     ],
     "prompt_number": 52
    },
    {
     "cell_type": "code",
     "collapsed": false,
     "input": [
      "a = range(10)\n",
      "print a\n",
      "print [x**2 for x in a if x >= 5]\n",
      "print [x for x in a if x*x >= 10]"
     ],
     "language": "python",
     "metadata": {},
     "outputs": [
      {
       "output_type": "stream",
       "stream": "stdout",
       "text": [
        "[0, 1, 2, 3, 4, 5, 6, 7, 8, 9]\n",
        "[25, 36, 49, 64, 81]\n",
        "[4, 5, 6, 7, 8, 9]\n"
       ]
      }
     ],
     "prompt_number": 56
    },
    {
     "cell_type": "code",
     "collapsed": false,
     "input": [
      "snp = ['rs1','rs2','rs3454545']\n",
      "bp = [123, 345, 567]\n",
      "\n",
      "def get_snps(snp, bp, start_bp, stop_bp):\n",
      "    a = 1\n",
      "    b = 1\n",
      "    return a + b"
     ],
     "language": "python",
     "metadata": {},
     "outputs": [],
     "prompt_number": 57
    },
    {
     "cell_type": "code",
     "collapsed": false,
     "input": [],
     "language": "python",
     "metadata": {},
     "outputs": []
    }
   ],
   "metadata": {}
  }
 ]
}